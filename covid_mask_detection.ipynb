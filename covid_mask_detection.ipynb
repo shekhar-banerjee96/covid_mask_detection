{
  "nbformat": 4,
  "nbformat_minor": 0,
  "metadata": {
    "colab": {
      "provenance": [],
      "gpuType": "T4"
    },
    "kernelspec": {
      "name": "python3",
      "display_name": "Python 3"
    },
    "language_info": {
      "name": "python"
    },
    "accelerator": "GPU"
  },
  "cells": [
    {
      "cell_type": "code",
      "source": [
        "import os\n",
        "import cv2\n",
        "from google.colab.patches import cv2_imshow\n",
        "\n",
        "import pandas as pd\n",
        "import numpy as np\n",
        "\n",
        "path  = '/content/Covid-19-PIS-2/train'"
      ],
      "metadata": {
        "id": "w3xntX4We5t-"
      },
      "execution_count": 1,
      "outputs": []
    },
    {
      "cell_type": "code",
      "execution_count": 2,
      "metadata": {
        "colab": {
          "base_uri": "https://localhost:8080/"
        },
        "id": "E-1DV2BYCfHe",
        "outputId": "32d9e9d0-3ac1-43b9-cd9d-b08c8887aa78"
      },
      "outputs": [
        {
          "output_type": "stream",
          "name": "stdout",
          "text": [
            "Collecting roboflow\n",
            "  Downloading roboflow-1.1.34-py3-none-any.whl (76 kB)\n",
            "\u001b[?25l     \u001b[90m━━━━━━━━━━━━━━━━━━━━━━━━━━━━━━━━━━━━━━━━\u001b[0m \u001b[32m0.0/76.2 kB\u001b[0m \u001b[31m?\u001b[0m eta \u001b[36m-:--:--\u001b[0m\r\u001b[2K     \u001b[90m━━━━━━━━━━━━━━━━━━━━━━━━━━━━━━━━━━━━━━━━\u001b[0m \u001b[32m76.2/76.2 kB\u001b[0m \u001b[31m3.4 MB/s\u001b[0m eta \u001b[36m0:00:00\u001b[0m\n",
            "\u001b[?25hRequirement already satisfied: certifi in /usr/local/lib/python3.10/dist-packages (from roboflow) (2024.6.2)\n",
            "Collecting chardet==4.0.0 (from roboflow)\n",
            "  Downloading chardet-4.0.0-py2.py3-none-any.whl (178 kB)\n",
            "\u001b[?25l     \u001b[90m━━━━━━━━━━━━━━━━━━━━━━━━━━━━━━━━━━━━━━━━\u001b[0m \u001b[32m0.0/178.7 kB\u001b[0m \u001b[31m?\u001b[0m eta \u001b[36m-:--:--\u001b[0m\r\u001b[2K     \u001b[90m━━━━━━━━━━━━━━━━━━━━━━━━━━━━━━━━━━━━━━━━\u001b[0m \u001b[32m178.7/178.7 kB\u001b[0m \u001b[31m11.3 MB/s\u001b[0m eta \u001b[36m0:00:00\u001b[0m\n",
            "\u001b[?25hRequirement already satisfied: idna==3.7 in /usr/local/lib/python3.10/dist-packages (from roboflow) (3.7)\n",
            "Requirement already satisfied: cycler in /usr/local/lib/python3.10/dist-packages (from roboflow) (0.12.1)\n",
            "Requirement already satisfied: kiwisolver>=1.3.1 in /usr/local/lib/python3.10/dist-packages (from roboflow) (1.4.5)\n",
            "Requirement already satisfied: matplotlib in /usr/local/lib/python3.10/dist-packages (from roboflow) (3.7.1)\n",
            "Requirement already satisfied: numpy>=1.18.5 in /usr/local/lib/python3.10/dist-packages (from roboflow) (1.25.2)\n",
            "Requirement already satisfied: opencv-python-headless==4.10.0.84 in /usr/local/lib/python3.10/dist-packages (from roboflow) (4.10.0.84)\n",
            "Requirement already satisfied: Pillow>=7.1.2 in /usr/local/lib/python3.10/dist-packages (from roboflow) (9.4.0)\n",
            "Requirement already satisfied: python-dateutil in /usr/local/lib/python3.10/dist-packages (from roboflow) (2.8.2)\n",
            "Collecting python-dotenv (from roboflow)\n",
            "  Downloading python_dotenv-1.0.1-py3-none-any.whl (19 kB)\n",
            "Requirement already satisfied: requests in /usr/local/lib/python3.10/dist-packages (from roboflow) (2.31.0)\n",
            "Requirement already satisfied: six in /usr/local/lib/python3.10/dist-packages (from roboflow) (1.16.0)\n",
            "Requirement already satisfied: urllib3>=1.26.6 in /usr/local/lib/python3.10/dist-packages (from roboflow) (2.0.7)\n",
            "Requirement already satisfied: tqdm>=4.41.0 in /usr/local/lib/python3.10/dist-packages (from roboflow) (4.66.4)\n",
            "Requirement already satisfied: PyYAML>=5.3.1 in /usr/local/lib/python3.10/dist-packages (from roboflow) (6.0.1)\n",
            "Collecting requests-toolbelt (from roboflow)\n",
            "  Downloading requests_toolbelt-1.0.0-py2.py3-none-any.whl (54 kB)\n",
            "\u001b[2K     \u001b[90m━━━━━━━━━━━━━━━━━━━━━━━━━━━━━━━━━━━━━━━━\u001b[0m \u001b[32m54.5/54.5 kB\u001b[0m \u001b[31m9.3 MB/s\u001b[0m eta \u001b[36m0:00:00\u001b[0m\n",
            "\u001b[?25hCollecting python-magic (from roboflow)\n",
            "  Downloading python_magic-0.4.27-py2.py3-none-any.whl (13 kB)\n",
            "Requirement already satisfied: contourpy>=1.0.1 in /usr/local/lib/python3.10/dist-packages (from matplotlib->roboflow) (1.2.1)\n",
            "Requirement already satisfied: fonttools>=4.22.0 in /usr/local/lib/python3.10/dist-packages (from matplotlib->roboflow) (4.53.0)\n",
            "Requirement already satisfied: packaging>=20.0 in /usr/local/lib/python3.10/dist-packages (from matplotlib->roboflow) (24.1)\n",
            "Requirement already satisfied: pyparsing>=2.3.1 in /usr/local/lib/python3.10/dist-packages (from matplotlib->roboflow) (3.1.2)\n",
            "Requirement already satisfied: charset-normalizer<4,>=2 in /usr/local/lib/python3.10/dist-packages (from requests->roboflow) (3.3.2)\n",
            "Installing collected packages: python-magic, python-dotenv, chardet, requests-toolbelt, roboflow\n",
            "  Attempting uninstall: chardet\n",
            "    Found existing installation: chardet 5.2.0\n",
            "    Uninstalling chardet-5.2.0:\n",
            "      Successfully uninstalled chardet-5.2.0\n",
            "Successfully installed chardet-4.0.0 python-dotenv-1.0.1 python-magic-0.4.27 requests-toolbelt-1.0.0 roboflow-1.1.34\n",
            "loading Roboflow workspace...\n",
            "loading Roboflow project...\n"
          ]
        },
        {
          "output_type": "stream",
          "name": "stderr",
          "text": [
            "Downloading Dataset Version Zip in Covid-19-PIS-2 to multiclass:: 100%|██████████| 33741/33741 [00:02<00:00, 11291.83it/s]"
          ]
        },
        {
          "output_type": "stream",
          "name": "stdout",
          "text": [
            "\n"
          ]
        },
        {
          "output_type": "stream",
          "name": "stderr",
          "text": [
            "\n",
            "Extracting Dataset Version Zip to Covid-19-PIS-2 in multiclass:: 100%|██████████| 1283/1283 [00:00<00:00, 7005.81it/s]\n"
          ]
        }
      ],
      "source": [
        "!pip install roboflow\n",
        "\n",
        "from roboflow import Roboflow\n",
        "rf = Roboflow(api_key=\"RGxc5sRzP2OLU5sz4roQ\")\n",
        "project = rf.workspace(\"pyimagesearch\").project(\"covid-19-pis\")\n",
        "version = project.version(2)\n",
        "dataset = version.download(\"multiclass\")\n"
      ]
    },
    {
      "cell_type": "code",
      "source": [
        "from google.colab import drive\n",
        "drive.mount('/content/drive')"
      ],
      "metadata": {
        "colab": {
          "base_uri": "https://localhost:8080/"
        },
        "id": "ZhsixON6BR_R",
        "outputId": "46f95816-b00e-499f-f309-80bab796fdea"
      },
      "execution_count": 3,
      "outputs": [
        {
          "output_type": "stream",
          "name": "stdout",
          "text": [
            "Mounted at /content/drive\n"
          ]
        }
      ]
    },
    {
      "cell_type": "code",
      "source": [
        "def extract_image(x) :\n",
        "\n",
        "\n",
        "\n",
        "  img_path = os.path.join(path,x)\n",
        "\n",
        "  img = cv2.imread(img_path)\n",
        "  img = cv2.cvtColor(img, cv2.COLOR_BGR2GRAY)\n",
        "\n",
        "  img = cv2.resize(img,(224,224))\n",
        "\n",
        "  img = np.repeat(img[..., np.newaxis], 3, -1)\n",
        "\n",
        "  return img"
      ],
      "metadata": {
        "id": "e815YyZlLGyq"
      },
      "execution_count": 77,
      "outputs": []
    },
    {
      "cell_type": "code",
      "source": [
        "extract_image('25-with-mask_jpg.rf.0aa53dada1d2cc1936ce3af65df6e316.jpg')"
      ],
      "metadata": {
        "colab": {
          "base_uri": "https://localhost:8080/",
          "height": 885
        },
        "id": "e0OhgReiWh-R",
        "outputId": "84c7ae6a-cfb2-4137-a426-03fa3e82fc38"
      },
      "execution_count": 78,
      "outputs": [
        {
          "output_type": "execute_result",
          "data": {
            "text/plain": [
              "array([[[255, 255, 255],\n",
              "        [255, 255, 255],\n",
              "        [255, 255, 255],\n",
              "        ...,\n",
              "        [255, 255, 255],\n",
              "        [255, 255, 255],\n",
              "        [255, 255, 255]],\n",
              "\n",
              "       [[255, 255, 255],\n",
              "        [255, 255, 255],\n",
              "        [255, 255, 255],\n",
              "        ...,\n",
              "        [255, 255, 255],\n",
              "        [255, 255, 255],\n",
              "        [255, 255, 255]],\n",
              "\n",
              "       [[255, 255, 255],\n",
              "        [255, 255, 255],\n",
              "        [255, 255, 255],\n",
              "        ...,\n",
              "        [255, 255, 255],\n",
              "        [255, 255, 255],\n",
              "        [255, 255, 255]],\n",
              "\n",
              "       ...,\n",
              "\n",
              "       [[255, 255, 255],\n",
              "        [255, 255, 255],\n",
              "        [255, 255, 255],\n",
              "        ...,\n",
              "        [254, 254, 254],\n",
              "        [254, 254, 254],\n",
              "        [254, 254, 254]],\n",
              "\n",
              "       [[255, 255, 255],\n",
              "        [255, 255, 255],\n",
              "        [255, 255, 255],\n",
              "        ...,\n",
              "        [254, 254, 254],\n",
              "        [254, 254, 254],\n",
              "        [254, 254, 254]],\n",
              "\n",
              "       [[255, 255, 255],\n",
              "        [255, 255, 255],\n",
              "        [255, 255, 255],\n",
              "        ...,\n",
              "        [254, 254, 254],\n",
              "        [254, 254, 254],\n",
              "        [254, 254, 254]]], dtype=uint8)"
            ],
            "text/html": [
              "<style>\n",
              "      .ndarray_repr .ndarray_raw_data {\n",
              "        display: none;\n",
              "      }\n",
              "      .ndarray_repr.show_array .ndarray_raw_data {\n",
              "        display: block;\n",
              "      }\n",
              "      .ndarray_repr.show_array .ndarray_image_preview {\n",
              "        display: none;\n",
              "      }\n",
              "      </style>\n",
              "      <div id=\"id-682fe171-6f3c-46de-adfd-bc69f44c221a\" class=\"ndarray_repr\"><pre>ndarray (224, 224, 3) <button style=\"padding: 0 2px;\">show data</button></pre><img src=\"data:image/png;base64,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\" class=\"ndarray_image_preview\" /><pre class=\"ndarray_raw_data\">array([[[255, 255, 255],\n",
              "        [255, 255, 255],\n",
              "        [255, 255, 255],\n",
              "        ...,\n",
              "        [255, 255, 255],\n",
              "        [255, 255, 255],\n",
              "        [255, 255, 255]],\n",
              "\n",
              "       [[255, 255, 255],\n",
              "        [255, 255, 255],\n",
              "        [255, 255, 255],\n",
              "        ...,\n",
              "        [255, 255, 255],\n",
              "        [255, 255, 255],\n",
              "        [255, 255, 255]],\n",
              "\n",
              "       [[255, 255, 255],\n",
              "        [255, 255, 255],\n",
              "        [255, 255, 255],\n",
              "        ...,\n",
              "        [255, 255, 255],\n",
              "        [255, 255, 255],\n",
              "        [255, 255, 255]],\n",
              "\n",
              "       ...,\n",
              "\n",
              "       [[255, 255, 255],\n",
              "        [255, 255, 255],\n",
              "        [255, 255, 255],\n",
              "        ...,\n",
              "        [254, 254, 254],\n",
              "        [254, 254, 254],\n",
              "        [254, 254, 254]],\n",
              "\n",
              "       [[255, 255, 255],\n",
              "        [255, 255, 255],\n",
              "        [255, 255, 255],\n",
              "        ...,\n",
              "        [254, 254, 254],\n",
              "        [254, 254, 254],\n",
              "        [254, 254, 254]],\n",
              "\n",
              "       [[255, 255, 255],\n",
              "        [255, 255, 255],\n",
              "        [255, 255, 255],\n",
              "        ...,\n",
              "        [254, 254, 254],\n",
              "        [254, 254, 254],\n",
              "        [254, 254, 254]]], dtype=uint8)</pre></div><script>\n",
              "      (() => {\n",
              "      const titles = ['show data', 'hide data'];\n",
              "      let index = 0\n",
              "      document.querySelector('#id-682fe171-6f3c-46de-adfd-bc69f44c221a button').onclick = (e) => {\n",
              "        document.querySelector('#id-682fe171-6f3c-46de-adfd-bc69f44c221a').classList.toggle('show_array');\n",
              "        index = (++index) % 2;\n",
              "        document.querySelector('#id-682fe171-6f3c-46de-adfd-bc69f44c221a button').textContent = titles[index];\n",
              "        e.preventDefault();\n",
              "        e.stopPropagation();\n",
              "      }\n",
              "      })();\n",
              "    </script>"
            ]
          },
          "metadata": {},
          "execution_count": 78
        }
      ]
    },
    {
      "cell_type": "code",
      "source": [
        "data = pd.read_csv('/content/Covid-19-PIS-2/train/_classes.csv')\n",
        "\n",
        "data.head()"
      ],
      "metadata": {
        "colab": {
          "base_uri": "https://localhost:8080/",
          "height": 206
        },
        "id": "TpbT7QVDfqiK",
        "outputId": "b84dc20f-e13e-4389-9d81-a0e498d752fe"
      },
      "execution_count": 79,
      "outputs": [
        {
          "output_type": "execute_result",
          "data": {
            "text/plain": [
              "                                            filename   with_mask  \\\n",
              "0  26-with-mask_jpg.rf.fb2a4fd14461ba4e7d981f51d9...           1   \n",
              "1     66_jpg.rf.fb48333563aba0cd06afba343f625d98.jpg           0   \n",
              "2  153-with-mask_jpg.rf.fb584ce29ce6d9a3123a04d80...           1   \n",
              "3  29-with-mask_jpg.rf.fb9ecac8d3dc335a43b79a9438...           1   \n",
              "4  augmented_image_315_jpg.rf.fba9c25c6675c5a039f...           1   \n",
              "\n",
              "    without_mask  \n",
              "0              0  \n",
              "1              1  \n",
              "2              0  \n",
              "3              0  \n",
              "4              0  "
            ],
            "text/html": [
              "\n",
              "  <div id=\"df-5a45f855-3472-4937-b8c5-7d9234f9b49a\" class=\"colab-df-container\">\n",
              "    <div>\n",
              "<style scoped>\n",
              "    .dataframe tbody tr th:only-of-type {\n",
              "        vertical-align: middle;\n",
              "    }\n",
              "\n",
              "    .dataframe tbody tr th {\n",
              "        vertical-align: top;\n",
              "    }\n",
              "\n",
              "    .dataframe thead th {\n",
              "        text-align: right;\n",
              "    }\n",
              "</style>\n",
              "<table border=\"1\" class=\"dataframe\">\n",
              "  <thead>\n",
              "    <tr style=\"text-align: right;\">\n",
              "      <th></th>\n",
              "      <th>filename</th>\n",
              "      <th>with_mask</th>\n",
              "      <th>without_mask</th>\n",
              "    </tr>\n",
              "  </thead>\n",
              "  <tbody>\n",
              "    <tr>\n",
              "      <th>0</th>\n",
              "      <td>26-with-mask_jpg.rf.fb2a4fd14461ba4e7d981f51d9...</td>\n",
              "      <td>1</td>\n",
              "      <td>0</td>\n",
              "    </tr>\n",
              "    <tr>\n",
              "      <th>1</th>\n",
              "      <td>66_jpg.rf.fb48333563aba0cd06afba343f625d98.jpg</td>\n",
              "      <td>0</td>\n",
              "      <td>1</td>\n",
              "    </tr>\n",
              "    <tr>\n",
              "      <th>2</th>\n",
              "      <td>153-with-mask_jpg.rf.fb584ce29ce6d9a3123a04d80...</td>\n",
              "      <td>1</td>\n",
              "      <td>0</td>\n",
              "    </tr>\n",
              "    <tr>\n",
              "      <th>3</th>\n",
              "      <td>29-with-mask_jpg.rf.fb9ecac8d3dc335a43b79a9438...</td>\n",
              "      <td>1</td>\n",
              "      <td>0</td>\n",
              "    </tr>\n",
              "    <tr>\n",
              "      <th>4</th>\n",
              "      <td>augmented_image_315_jpg.rf.fba9c25c6675c5a039f...</td>\n",
              "      <td>1</td>\n",
              "      <td>0</td>\n",
              "    </tr>\n",
              "  </tbody>\n",
              "</table>\n",
              "</div>\n",
              "    <div class=\"colab-df-buttons\">\n",
              "\n",
              "  <div class=\"colab-df-container\">\n",
              "    <button class=\"colab-df-convert\" onclick=\"convertToInteractive('df-5a45f855-3472-4937-b8c5-7d9234f9b49a')\"\n",
              "            title=\"Convert this dataframe to an interactive table.\"\n",
              "            style=\"display:none;\">\n",
              "\n",
              "  <svg xmlns=\"http://www.w3.org/2000/svg\" height=\"24px\" viewBox=\"0 -960 960 960\">\n",
              "    <path d=\"M120-120v-720h720v720H120Zm60-500h600v-160H180v160Zm220 220h160v-160H400v160Zm0 220h160v-160H400v160ZM180-400h160v-160H180v160Zm440 0h160v-160H620v160ZM180-180h160v-160H180v160Zm440 0h160v-160H620v160Z\"/>\n",
              "  </svg>\n",
              "    </button>\n",
              "\n",
              "  <style>\n",
              "    .colab-df-container {\n",
              "      display:flex;\n",
              "      gap: 12px;\n",
              "    }\n",
              "\n",
              "    .colab-df-convert {\n",
              "      background-color: #E8F0FE;\n",
              "      border: none;\n",
              "      border-radius: 50%;\n",
              "      cursor: pointer;\n",
              "      display: none;\n",
              "      fill: #1967D2;\n",
              "      height: 32px;\n",
              "      padding: 0 0 0 0;\n",
              "      width: 32px;\n",
              "    }\n",
              "\n",
              "    .colab-df-convert:hover {\n",
              "      background-color: #E2EBFA;\n",
              "      box-shadow: 0px 1px 2px rgba(60, 64, 67, 0.3), 0px 1px 3px 1px rgba(60, 64, 67, 0.15);\n",
              "      fill: #174EA6;\n",
              "    }\n",
              "\n",
              "    .colab-df-buttons div {\n",
              "      margin-bottom: 4px;\n",
              "    }\n",
              "\n",
              "    [theme=dark] .colab-df-convert {\n",
              "      background-color: #3B4455;\n",
              "      fill: #D2E3FC;\n",
              "    }\n",
              "\n",
              "    [theme=dark] .colab-df-convert:hover {\n",
              "      background-color: #434B5C;\n",
              "      box-shadow: 0px 1px 3px 1px rgba(0, 0, 0, 0.15);\n",
              "      filter: drop-shadow(0px 1px 2px rgba(0, 0, 0, 0.3));\n",
              "      fill: #FFFFFF;\n",
              "    }\n",
              "  </style>\n",
              "\n",
              "    <script>\n",
              "      const buttonEl =\n",
              "        document.querySelector('#df-5a45f855-3472-4937-b8c5-7d9234f9b49a button.colab-df-convert');\n",
              "      buttonEl.style.display =\n",
              "        google.colab.kernel.accessAllowed ? 'block' : 'none';\n",
              "\n",
              "      async function convertToInteractive(key) {\n",
              "        const element = document.querySelector('#df-5a45f855-3472-4937-b8c5-7d9234f9b49a');\n",
              "        const dataTable =\n",
              "          await google.colab.kernel.invokeFunction('convertToInteractive',\n",
              "                                                    [key], {});\n",
              "        if (!dataTable) return;\n",
              "\n",
              "        const docLinkHtml = 'Like what you see? Visit the ' +\n",
              "          '<a target=\"_blank\" href=https://colab.research.google.com/notebooks/data_table.ipynb>data table notebook</a>'\n",
              "          + ' to learn more about interactive tables.';\n",
              "        element.innerHTML = '';\n",
              "        dataTable['output_type'] = 'display_data';\n",
              "        await google.colab.output.renderOutput(dataTable, element);\n",
              "        const docLink = document.createElement('div');\n",
              "        docLink.innerHTML = docLinkHtml;\n",
              "        element.appendChild(docLink);\n",
              "      }\n",
              "    </script>\n",
              "  </div>\n",
              "\n",
              "\n",
              "<div id=\"df-7a48e9eb-760e-4503-aa09-85b9d7e23eb0\">\n",
              "  <button class=\"colab-df-quickchart\" onclick=\"quickchart('df-7a48e9eb-760e-4503-aa09-85b9d7e23eb0')\"\n",
              "            title=\"Suggest charts\"\n",
              "            style=\"display:none;\">\n",
              "\n",
              "<svg xmlns=\"http://www.w3.org/2000/svg\" height=\"24px\"viewBox=\"0 0 24 24\"\n",
              "     width=\"24px\">\n",
              "    <g>\n",
              "        <path d=\"M19 3H5c-1.1 0-2 .9-2 2v14c0 1.1.9 2 2 2h14c1.1 0 2-.9 2-2V5c0-1.1-.9-2-2-2zM9 17H7v-7h2v7zm4 0h-2V7h2v10zm4 0h-2v-4h2v4z\"/>\n",
              "    </g>\n",
              "</svg>\n",
              "  </button>\n",
              "\n",
              "<style>\n",
              "  .colab-df-quickchart {\n",
              "      --bg-color: #E8F0FE;\n",
              "      --fill-color: #1967D2;\n",
              "      --hover-bg-color: #E2EBFA;\n",
              "      --hover-fill-color: #174EA6;\n",
              "      --disabled-fill-color: #AAA;\n",
              "      --disabled-bg-color: #DDD;\n",
              "  }\n",
              "\n",
              "  [theme=dark] .colab-df-quickchart {\n",
              "      --bg-color: #3B4455;\n",
              "      --fill-color: #D2E3FC;\n",
              "      --hover-bg-color: #434B5C;\n",
              "      --hover-fill-color: #FFFFFF;\n",
              "      --disabled-bg-color: #3B4455;\n",
              "      --disabled-fill-color: #666;\n",
              "  }\n",
              "\n",
              "  .colab-df-quickchart {\n",
              "    background-color: var(--bg-color);\n",
              "    border: none;\n",
              "    border-radius: 50%;\n",
              "    cursor: pointer;\n",
              "    display: none;\n",
              "    fill: var(--fill-color);\n",
              "    height: 32px;\n",
              "    padding: 0;\n",
              "    width: 32px;\n",
              "  }\n",
              "\n",
              "  .colab-df-quickchart:hover {\n",
              "    background-color: var(--hover-bg-color);\n",
              "    box-shadow: 0 1px 2px rgba(60, 64, 67, 0.3), 0 1px 3px 1px rgba(60, 64, 67, 0.15);\n",
              "    fill: var(--button-hover-fill-color);\n",
              "  }\n",
              "\n",
              "  .colab-df-quickchart-complete:disabled,\n",
              "  .colab-df-quickchart-complete:disabled:hover {\n",
              "    background-color: var(--disabled-bg-color);\n",
              "    fill: var(--disabled-fill-color);\n",
              "    box-shadow: none;\n",
              "  }\n",
              "\n",
              "  .colab-df-spinner {\n",
              "    border: 2px solid var(--fill-color);\n",
              "    border-color: transparent;\n",
              "    border-bottom-color: var(--fill-color);\n",
              "    animation:\n",
              "      spin 1s steps(1) infinite;\n",
              "  }\n",
              "\n",
              "  @keyframes spin {\n",
              "    0% {\n",
              "      border-color: transparent;\n",
              "      border-bottom-color: var(--fill-color);\n",
              "      border-left-color: var(--fill-color);\n",
              "    }\n",
              "    20% {\n",
              "      border-color: transparent;\n",
              "      border-left-color: var(--fill-color);\n",
              "      border-top-color: var(--fill-color);\n",
              "    }\n",
              "    30% {\n",
              "      border-color: transparent;\n",
              "      border-left-color: var(--fill-color);\n",
              "      border-top-color: var(--fill-color);\n",
              "      border-right-color: var(--fill-color);\n",
              "    }\n",
              "    40% {\n",
              "      border-color: transparent;\n",
              "      border-right-color: var(--fill-color);\n",
              "      border-top-color: var(--fill-color);\n",
              "    }\n",
              "    60% {\n",
              "      border-color: transparent;\n",
              "      border-right-color: var(--fill-color);\n",
              "    }\n",
              "    80% {\n",
              "      border-color: transparent;\n",
              "      border-right-color: var(--fill-color);\n",
              "      border-bottom-color: var(--fill-color);\n",
              "    }\n",
              "    90% {\n",
              "      border-color: transparent;\n",
              "      border-bottom-color: var(--fill-color);\n",
              "    }\n",
              "  }\n",
              "</style>\n",
              "\n",
              "  <script>\n",
              "    async function quickchart(key) {\n",
              "      const quickchartButtonEl =\n",
              "        document.querySelector('#' + key + ' button');\n",
              "      quickchartButtonEl.disabled = true;  // To prevent multiple clicks.\n",
              "      quickchartButtonEl.classList.add('colab-df-spinner');\n",
              "      try {\n",
              "        const charts = await google.colab.kernel.invokeFunction(\n",
              "            'suggestCharts', [key], {});\n",
              "      } catch (error) {\n",
              "        console.error('Error during call to suggestCharts:', error);\n",
              "      }\n",
              "      quickchartButtonEl.classList.remove('colab-df-spinner');\n",
              "      quickchartButtonEl.classList.add('colab-df-quickchart-complete');\n",
              "    }\n",
              "    (() => {\n",
              "      let quickchartButtonEl =\n",
              "        document.querySelector('#df-7a48e9eb-760e-4503-aa09-85b9d7e23eb0 button');\n",
              "      quickchartButtonEl.style.display =\n",
              "        google.colab.kernel.accessAllowed ? 'block' : 'none';\n",
              "    })();\n",
              "  </script>\n",
              "</div>\n",
              "\n",
              "    </div>\n",
              "  </div>\n"
            ],
            "application/vnd.google.colaboratory.intrinsic+json": {
              "type": "dataframe",
              "variable_name": "data",
              "summary": "{\n  \"name\": \"data\",\n  \"rows\": 1279,\n  \"fields\": [\n    {\n      \"column\": \"filename\",\n      \"properties\": {\n        \"dtype\": \"string\",\n        \"num_unique_values\": 1279,\n        \"samples\": [\n          \"augmented_image_112_jpg.rf.61b8e8f0276018375ea38bd7c5d68f22.jpg\",\n          \"297-with-mask_jpg.rf.5550c5c80b3db981ea6d5c8c990442e6.jpg\",\n          \"augmented_image_104_jpg.rf.6cbb09a37272344186de89b325b90e2f.jpg\"\n        ],\n        \"semantic_type\": \"\",\n        \"description\": \"\"\n      }\n    },\n    {\n      \"column\": \" with_mask\",\n      \"properties\": {\n        \"dtype\": \"number\",\n        \"std\": 0,\n        \"min\": 0,\n        \"max\": 1,\n        \"num_unique_values\": 2,\n        \"samples\": [\n          0,\n          1\n        ],\n        \"semantic_type\": \"\",\n        \"description\": \"\"\n      }\n    },\n    {\n      \"column\": \" without_mask\",\n      \"properties\": {\n        \"dtype\": \"number\",\n        \"std\": 0,\n        \"min\": 0,\n        \"max\": 1,\n        \"num_unique_values\": 2,\n        \"samples\": [\n          1,\n          0\n        ],\n        \"semantic_type\": \"\",\n        \"description\": \"\"\n      }\n    }\n  ]\n}"
            }
          },
          "metadata": {},
          "execution_count": 79
        }
      ]
    },
    {
      "cell_type": "code",
      "source": [
        "data.columns = ['filename', 'with_mask', 'without_mask']"
      ],
      "metadata": {
        "id": "ENGmar1_kprf"
      },
      "execution_count": 80,
      "outputs": []
    },
    {
      "cell_type": "code",
      "source": [
        "data['pixel'] = data['filename'].apply(extract_image)"
      ],
      "metadata": {
        "id": "x3NWkxH2gDMv"
      },
      "execution_count": 81,
      "outputs": []
    },
    {
      "cell_type": "code",
      "source": [
        "data.sample(10)"
      ],
      "metadata": {
        "id": "qF8qUVvEgQZe",
        "colab": {
          "base_uri": "https://localhost:8080/",
          "height": 363
        },
        "outputId": "1dd03d81-1e6b-4ef3-a14e-a09262fefb4d"
      },
      "execution_count": 82,
      "outputs": [
        {
          "output_type": "execute_result",
          "data": {
            "text/plain": [
              "                                               filename  with_mask  \\\n",
              "1200  466-with-mask_jpg.rf.571286bfb1ffbde3951cb73d0...          1   \n",
              "397     183_jpg.rf.11db2c1f2dcdff76180a6a71bd1571fd.jpg          0   \n",
              "69    augmented_image_120_jpg.rf.9ef9926259321815f1d...          0   \n",
              "302   augmented_image_237_jpg.rf.02e50ea8bdabaec6906...          0   \n",
              "669      89_jpg.rf.846184ba083e9ab2685b6059c8d5b730.jpg          0   \n",
              "411   augmented_image_171_jpg.rf.1a45cb2f6781b18f043...          0   \n",
              "1219    204_jpg.rf.5d05cd5438cc83765448ae3c7988ebe6.jpg          0   \n",
              "65    459-with-mask_jpg.rf.9d20fd7494e3c50c28b75ac28...          1   \n",
              "368     106_jpg.rf.112b6c0384275b88eff762f1b87440f1.jpg          0   \n",
              "99    augmented_image_58_jpg.rf.a62a369b5838d382a4aa...          1   \n",
              "\n",
              "      without_mask                                              pixel  \n",
              "1200             0  [[[253, 253, 253], [252, 252, 252], [255, 255,...  \n",
              "397              1  [[[251, 251, 251], [253, 253, 253], [248, 248,...  \n",
              "69               1  [[[245, 245, 245], [249, 249, 249], [246, 246,...  \n",
              "302              1  [[[130, 130, 130], [146, 146, 146], [139, 139,...  \n",
              "669              1  [[[33, 33, 33], [55, 55, 55], [70, 70, 70], [8...  \n",
              "411              1  [[[253, 253, 253], [254, 254, 254], [255, 255,...  \n",
              "1219             1  [[[253, 253, 253], [253, 253, 253], [254, 254,...  \n",
              "65               0  [[[187, 187, 187], [189, 189, 189], [190, 190,...  \n",
              "368              1  [[[221, 221, 221], [214, 214, 214], [208, 208,...  \n",
              "99               0  [[[255, 255, 255], [255, 255, 255], [255, 255,...  "
            ],
            "text/html": [
              "\n",
              "  <div id=\"df-da78b59c-adc2-4e8d-b54a-b33f1fd5b166\" class=\"colab-df-container\">\n",
              "    <div>\n",
              "<style scoped>\n",
              "    .dataframe tbody tr th:only-of-type {\n",
              "        vertical-align: middle;\n",
              "    }\n",
              "\n",
              "    .dataframe tbody tr th {\n",
              "        vertical-align: top;\n",
              "    }\n",
              "\n",
              "    .dataframe thead th {\n",
              "        text-align: right;\n",
              "    }\n",
              "</style>\n",
              "<table border=\"1\" class=\"dataframe\">\n",
              "  <thead>\n",
              "    <tr style=\"text-align: right;\">\n",
              "      <th></th>\n",
              "      <th>filename</th>\n",
              "      <th>with_mask</th>\n",
              "      <th>without_mask</th>\n",
              "      <th>pixel</th>\n",
              "    </tr>\n",
              "  </thead>\n",
              "  <tbody>\n",
              "    <tr>\n",
              "      <th>1200</th>\n",
              "      <td>466-with-mask_jpg.rf.571286bfb1ffbde3951cb73d0...</td>\n",
              "      <td>1</td>\n",
              "      <td>0</td>\n",
              "      <td>[[[253, 253, 253], [252, 252, 252], [255, 255,...</td>\n",
              "    </tr>\n",
              "    <tr>\n",
              "      <th>397</th>\n",
              "      <td>183_jpg.rf.11db2c1f2dcdff76180a6a71bd1571fd.jpg</td>\n",
              "      <td>0</td>\n",
              "      <td>1</td>\n",
              "      <td>[[[251, 251, 251], [253, 253, 253], [248, 248,...</td>\n",
              "    </tr>\n",
              "    <tr>\n",
              "      <th>69</th>\n",
              "      <td>augmented_image_120_jpg.rf.9ef9926259321815f1d...</td>\n",
              "      <td>0</td>\n",
              "      <td>1</td>\n",
              "      <td>[[[245, 245, 245], [249, 249, 249], [246, 246,...</td>\n",
              "    </tr>\n",
              "    <tr>\n",
              "      <th>302</th>\n",
              "      <td>augmented_image_237_jpg.rf.02e50ea8bdabaec6906...</td>\n",
              "      <td>0</td>\n",
              "      <td>1</td>\n",
              "      <td>[[[130, 130, 130], [146, 146, 146], [139, 139,...</td>\n",
              "    </tr>\n",
              "    <tr>\n",
              "      <th>669</th>\n",
              "      <td>89_jpg.rf.846184ba083e9ab2685b6059c8d5b730.jpg</td>\n",
              "      <td>0</td>\n",
              "      <td>1</td>\n",
              "      <td>[[[33, 33, 33], [55, 55, 55], [70, 70, 70], [8...</td>\n",
              "    </tr>\n",
              "    <tr>\n",
              "      <th>411</th>\n",
              "      <td>augmented_image_171_jpg.rf.1a45cb2f6781b18f043...</td>\n",
              "      <td>0</td>\n",
              "      <td>1</td>\n",
              "      <td>[[[253, 253, 253], [254, 254, 254], [255, 255,...</td>\n",
              "    </tr>\n",
              "    <tr>\n",
              "      <th>1219</th>\n",
              "      <td>204_jpg.rf.5d05cd5438cc83765448ae3c7988ebe6.jpg</td>\n",
              "      <td>0</td>\n",
              "      <td>1</td>\n",
              "      <td>[[[253, 253, 253], [253, 253, 253], [254, 254,...</td>\n",
              "    </tr>\n",
              "    <tr>\n",
              "      <th>65</th>\n",
              "      <td>459-with-mask_jpg.rf.9d20fd7494e3c50c28b75ac28...</td>\n",
              "      <td>1</td>\n",
              "      <td>0</td>\n",
              "      <td>[[[187, 187, 187], [189, 189, 189], [190, 190,...</td>\n",
              "    </tr>\n",
              "    <tr>\n",
              "      <th>368</th>\n",
              "      <td>106_jpg.rf.112b6c0384275b88eff762f1b87440f1.jpg</td>\n",
              "      <td>0</td>\n",
              "      <td>1</td>\n",
              "      <td>[[[221, 221, 221], [214, 214, 214], [208, 208,...</td>\n",
              "    </tr>\n",
              "    <tr>\n",
              "      <th>99</th>\n",
              "      <td>augmented_image_58_jpg.rf.a62a369b5838d382a4aa...</td>\n",
              "      <td>1</td>\n",
              "      <td>0</td>\n",
              "      <td>[[[255, 255, 255], [255, 255, 255], [255, 255,...</td>\n",
              "    </tr>\n",
              "  </tbody>\n",
              "</table>\n",
              "</div>\n",
              "    <div class=\"colab-df-buttons\">\n",
              "\n",
              "  <div class=\"colab-df-container\">\n",
              "    <button class=\"colab-df-convert\" onclick=\"convertToInteractive('df-da78b59c-adc2-4e8d-b54a-b33f1fd5b166')\"\n",
              "            title=\"Convert this dataframe to an interactive table.\"\n",
              "            style=\"display:none;\">\n",
              "\n",
              "  <svg xmlns=\"http://www.w3.org/2000/svg\" height=\"24px\" viewBox=\"0 -960 960 960\">\n",
              "    <path d=\"M120-120v-720h720v720H120Zm60-500h600v-160H180v160Zm220 220h160v-160H400v160Zm0 220h160v-160H400v160ZM180-400h160v-160H180v160Zm440 0h160v-160H620v160ZM180-180h160v-160H180v160Zm440 0h160v-160H620v160Z\"/>\n",
              "  </svg>\n",
              "    </button>\n",
              "\n",
              "  <style>\n",
              "    .colab-df-container {\n",
              "      display:flex;\n",
              "      gap: 12px;\n",
              "    }\n",
              "\n",
              "    .colab-df-convert {\n",
              "      background-color: #E8F0FE;\n",
              "      border: none;\n",
              "      border-radius: 50%;\n",
              "      cursor: pointer;\n",
              "      display: none;\n",
              "      fill: #1967D2;\n",
              "      height: 32px;\n",
              "      padding: 0 0 0 0;\n",
              "      width: 32px;\n",
              "    }\n",
              "\n",
              "    .colab-df-convert:hover {\n",
              "      background-color: #E2EBFA;\n",
              "      box-shadow: 0px 1px 2px rgba(60, 64, 67, 0.3), 0px 1px 3px 1px rgba(60, 64, 67, 0.15);\n",
              "      fill: #174EA6;\n",
              "    }\n",
              "\n",
              "    .colab-df-buttons div {\n",
              "      margin-bottom: 4px;\n",
              "    }\n",
              "\n",
              "    [theme=dark] .colab-df-convert {\n",
              "      background-color: #3B4455;\n",
              "      fill: #D2E3FC;\n",
              "    }\n",
              "\n",
              "    [theme=dark] .colab-df-convert:hover {\n",
              "      background-color: #434B5C;\n",
              "      box-shadow: 0px 1px 3px 1px rgba(0, 0, 0, 0.15);\n",
              "      filter: drop-shadow(0px 1px 2px rgba(0, 0, 0, 0.3));\n",
              "      fill: #FFFFFF;\n",
              "    }\n",
              "  </style>\n",
              "\n",
              "    <script>\n",
              "      const buttonEl =\n",
              "        document.querySelector('#df-da78b59c-adc2-4e8d-b54a-b33f1fd5b166 button.colab-df-convert');\n",
              "      buttonEl.style.display =\n",
              "        google.colab.kernel.accessAllowed ? 'block' : 'none';\n",
              "\n",
              "      async function convertToInteractive(key) {\n",
              "        const element = document.querySelector('#df-da78b59c-adc2-4e8d-b54a-b33f1fd5b166');\n",
              "        const dataTable =\n",
              "          await google.colab.kernel.invokeFunction('convertToInteractive',\n",
              "                                                    [key], {});\n",
              "        if (!dataTable) return;\n",
              "\n",
              "        const docLinkHtml = 'Like what you see? Visit the ' +\n",
              "          '<a target=\"_blank\" href=https://colab.research.google.com/notebooks/data_table.ipynb>data table notebook</a>'\n",
              "          + ' to learn more about interactive tables.';\n",
              "        element.innerHTML = '';\n",
              "        dataTable['output_type'] = 'display_data';\n",
              "        await google.colab.output.renderOutput(dataTable, element);\n",
              "        const docLink = document.createElement('div');\n",
              "        docLink.innerHTML = docLinkHtml;\n",
              "        element.appendChild(docLink);\n",
              "      }\n",
              "    </script>\n",
              "  </div>\n",
              "\n",
              "\n",
              "<div id=\"df-004534c4-76cd-4cde-b002-890f34ddfe78\">\n",
              "  <button class=\"colab-df-quickchart\" onclick=\"quickchart('df-004534c4-76cd-4cde-b002-890f34ddfe78')\"\n",
              "            title=\"Suggest charts\"\n",
              "            style=\"display:none;\">\n",
              "\n",
              "<svg xmlns=\"http://www.w3.org/2000/svg\" height=\"24px\"viewBox=\"0 0 24 24\"\n",
              "     width=\"24px\">\n",
              "    <g>\n",
              "        <path d=\"M19 3H5c-1.1 0-2 .9-2 2v14c0 1.1.9 2 2 2h14c1.1 0 2-.9 2-2V5c0-1.1-.9-2-2-2zM9 17H7v-7h2v7zm4 0h-2V7h2v10zm4 0h-2v-4h2v4z\"/>\n",
              "    </g>\n",
              "</svg>\n",
              "  </button>\n",
              "\n",
              "<style>\n",
              "  .colab-df-quickchart {\n",
              "      --bg-color: #E8F0FE;\n",
              "      --fill-color: #1967D2;\n",
              "      --hover-bg-color: #E2EBFA;\n",
              "      --hover-fill-color: #174EA6;\n",
              "      --disabled-fill-color: #AAA;\n",
              "      --disabled-bg-color: #DDD;\n",
              "  }\n",
              "\n",
              "  [theme=dark] .colab-df-quickchart {\n",
              "      --bg-color: #3B4455;\n",
              "      --fill-color: #D2E3FC;\n",
              "      --hover-bg-color: #434B5C;\n",
              "      --hover-fill-color: #FFFFFF;\n",
              "      --disabled-bg-color: #3B4455;\n",
              "      --disabled-fill-color: #666;\n",
              "  }\n",
              "\n",
              "  .colab-df-quickchart {\n",
              "    background-color: var(--bg-color);\n",
              "    border: none;\n",
              "    border-radius: 50%;\n",
              "    cursor: pointer;\n",
              "    display: none;\n",
              "    fill: var(--fill-color);\n",
              "    height: 32px;\n",
              "    padding: 0;\n",
              "    width: 32px;\n",
              "  }\n",
              "\n",
              "  .colab-df-quickchart:hover {\n",
              "    background-color: var(--hover-bg-color);\n",
              "    box-shadow: 0 1px 2px rgba(60, 64, 67, 0.3), 0 1px 3px 1px rgba(60, 64, 67, 0.15);\n",
              "    fill: var(--button-hover-fill-color);\n",
              "  }\n",
              "\n",
              "  .colab-df-quickchart-complete:disabled,\n",
              "  .colab-df-quickchart-complete:disabled:hover {\n",
              "    background-color: var(--disabled-bg-color);\n",
              "    fill: var(--disabled-fill-color);\n",
              "    box-shadow: none;\n",
              "  }\n",
              "\n",
              "  .colab-df-spinner {\n",
              "    border: 2px solid var(--fill-color);\n",
              "    border-color: transparent;\n",
              "    border-bottom-color: var(--fill-color);\n",
              "    animation:\n",
              "      spin 1s steps(1) infinite;\n",
              "  }\n",
              "\n",
              "  @keyframes spin {\n",
              "    0% {\n",
              "      border-color: transparent;\n",
              "      border-bottom-color: var(--fill-color);\n",
              "      border-left-color: var(--fill-color);\n",
              "    }\n",
              "    20% {\n",
              "      border-color: transparent;\n",
              "      border-left-color: var(--fill-color);\n",
              "      border-top-color: var(--fill-color);\n",
              "    }\n",
              "    30% {\n",
              "      border-color: transparent;\n",
              "      border-left-color: var(--fill-color);\n",
              "      border-top-color: var(--fill-color);\n",
              "      border-right-color: var(--fill-color);\n",
              "    }\n",
              "    40% {\n",
              "      border-color: transparent;\n",
              "      border-right-color: var(--fill-color);\n",
              "      border-top-color: var(--fill-color);\n",
              "    }\n",
              "    60% {\n",
              "      border-color: transparent;\n",
              "      border-right-color: var(--fill-color);\n",
              "    }\n",
              "    80% {\n",
              "      border-color: transparent;\n",
              "      border-right-color: var(--fill-color);\n",
              "      border-bottom-color: var(--fill-color);\n",
              "    }\n",
              "    90% {\n",
              "      border-color: transparent;\n",
              "      border-bottom-color: var(--fill-color);\n",
              "    }\n",
              "  }\n",
              "</style>\n",
              "\n",
              "  <script>\n",
              "    async function quickchart(key) {\n",
              "      const quickchartButtonEl =\n",
              "        document.querySelector('#' + key + ' button');\n",
              "      quickchartButtonEl.disabled = true;  // To prevent multiple clicks.\n",
              "      quickchartButtonEl.classList.add('colab-df-spinner');\n",
              "      try {\n",
              "        const charts = await google.colab.kernel.invokeFunction(\n",
              "            'suggestCharts', [key], {});\n",
              "      } catch (error) {\n",
              "        console.error('Error during call to suggestCharts:', error);\n",
              "      }\n",
              "      quickchartButtonEl.classList.remove('colab-df-spinner');\n",
              "      quickchartButtonEl.classList.add('colab-df-quickchart-complete');\n",
              "    }\n",
              "    (() => {\n",
              "      let quickchartButtonEl =\n",
              "        document.querySelector('#df-004534c4-76cd-4cde-b002-890f34ddfe78 button');\n",
              "      quickchartButtonEl.style.display =\n",
              "        google.colab.kernel.accessAllowed ? 'block' : 'none';\n",
              "    })();\n",
              "  </script>\n",
              "</div>\n",
              "\n",
              "    </div>\n",
              "  </div>\n"
            ],
            "application/vnd.google.colaboratory.intrinsic+json": {
              "type": "dataframe",
              "summary": "{\n  \"name\": \"data\",\n  \"rows\": 10,\n  \"fields\": [\n    {\n      \"column\": \"filename\",\n      \"properties\": {\n        \"dtype\": \"string\",\n        \"num_unique_values\": 10,\n        \"samples\": [\n          \"106_jpg.rf.112b6c0384275b88eff762f1b87440f1.jpg\",\n          \"183_jpg.rf.11db2c1f2dcdff76180a6a71bd1571fd.jpg\",\n          \"augmented_image_171_jpg.rf.1a45cb2f6781b18f043c032ba4b2cab0.jpg\"\n        ],\n        \"semantic_type\": \"\",\n        \"description\": \"\"\n      }\n    },\n    {\n      \"column\": \"with_mask\",\n      \"properties\": {\n        \"dtype\": \"number\",\n        \"std\": 0,\n        \"min\": 0,\n        \"max\": 1,\n        \"num_unique_values\": 2,\n        \"samples\": [\n          0,\n          1\n        ],\n        \"semantic_type\": \"\",\n        \"description\": \"\"\n      }\n    },\n    {\n      \"column\": \"without_mask\",\n      \"properties\": {\n        \"dtype\": \"number\",\n        \"std\": 0,\n        \"min\": 0,\n        \"max\": 1,\n        \"num_unique_values\": 2,\n        \"samples\": [\n          1,\n          0\n        ],\n        \"semantic_type\": \"\",\n        \"description\": \"\"\n      }\n    },\n    {\n      \"column\": \"pixel\",\n      \"properties\": {\n        \"dtype\": \"object\",\n        \"semantic_type\": \"\",\n        \"description\": \"\"\n      }\n    }\n  ]\n}"
            }
          },
          "metadata": {},
          "execution_count": 82
        }
      ]
    },
    {
      "cell_type": "code",
      "source": [
        "data = data.sample(frac=1)"
      ],
      "metadata": {
        "id": "JcBr6wxsgVWm"
      },
      "execution_count": 83,
      "outputs": []
    },
    {
      "cell_type": "code",
      "source": [
        "data.drop(['filename','without_mask'],axis=1,inplace=True)"
      ],
      "metadata": {
        "id": "AfaIWim4i-Fg"
      },
      "execution_count": 84,
      "outputs": []
    },
    {
      "cell_type": "code",
      "source": [
        "X = np.array(data['pixel'].tolist())"
      ],
      "metadata": {
        "id": "jHSBpTiXkNsi"
      },
      "execution_count": 85,
      "outputs": []
    },
    {
      "cell_type": "code",
      "source": [
        "y = data['with_mask'].values"
      ],
      "metadata": {
        "id": "lWYRaIjLk6G-"
      },
      "execution_count": 86,
      "outputs": []
    },
    {
      "cell_type": "code",
      "source": [
        "X.shape , y.shape"
      ],
      "metadata": {
        "id": "2yPWMN-Ill4A",
        "colab": {
          "base_uri": "https://localhost:8080/"
        },
        "outputId": "a7727f15-266a-401e-c559-c2704cad1caa"
      },
      "execution_count": 87,
      "outputs": [
        {
          "output_type": "execute_result",
          "data": {
            "text/plain": [
              "((1279, 224, 224, 3), (1279,))"
            ]
          },
          "metadata": {},
          "execution_count": 87
        }
      ]
    },
    {
      "cell_type": "code",
      "source": [
        "data['with_mask'].value_counts()"
      ],
      "metadata": {
        "colab": {
          "base_uri": "https://localhost:8080/"
        },
        "id": "cgNJZP-FFXXh",
        "outputId": "80d0ea1f-b635-4df8-dd46-2d8eb8ef94cc"
      },
      "execution_count": 88,
      "outputs": [
        {
          "output_type": "execute_result",
          "data": {
            "text/plain": [
              "with_mask\n",
              "1    644\n",
              "0    635\n",
              "Name: count, dtype: int64"
            ]
          },
          "metadata": {},
          "execution_count": 88
        }
      ]
    },
    {
      "cell_type": "code",
      "source": [
        "from keras.layers import Dense"
      ],
      "metadata": {
        "id": "a4ZfpetFlp0i"
      },
      "execution_count": 89,
      "outputs": []
    },
    {
      "cell_type": "code",
      "source": [
        "from sklearn.model_selection import train_test_split\n",
        "\n",
        "X_train , X_test , y_train , y_test = train_test_split(X,y,test_size = 0.3)"
      ],
      "metadata": {
        "id": "fBaty9n3k8kd"
      },
      "execution_count": 90,
      "outputs": []
    },
    {
      "cell_type": "code",
      "source": [
        "from keras.applications.vgg16 import VGG16\n",
        "vgg = VGG16()"
      ],
      "metadata": {
        "id": "nakrHjvwlb0_"
      },
      "execution_count": 91,
      "outputs": []
    },
    {
      "cell_type": "code",
      "source": [
        "vgg.summary()"
      ],
      "metadata": {
        "id": "aqSPyepKnPIC",
        "colab": {
          "base_uri": "https://localhost:8080/"
        },
        "outputId": "52f069b8-c4d5-4fd7-ac11-0f20234c64fb"
      },
      "execution_count": 92,
      "outputs": [
        {
          "output_type": "stream",
          "name": "stdout",
          "text": [
            "Model: \"vgg16\"\n",
            "_________________________________________________________________\n",
            " Layer (type)                Output Shape              Param #   \n",
            "=================================================================\n",
            " input_3 (InputLayer)        [(None, 224, 224, 3)]     0         \n",
            "                                                                 \n",
            " block1_conv1 (Conv2D)       (None, 224, 224, 64)      1792      \n",
            "                                                                 \n",
            " block1_conv2 (Conv2D)       (None, 224, 224, 64)      36928     \n",
            "                                                                 \n",
            " block1_pool (MaxPooling2D)  (None, 112, 112, 64)      0         \n",
            "                                                                 \n",
            " block2_conv1 (Conv2D)       (None, 112, 112, 128)     73856     \n",
            "                                                                 \n",
            " block2_conv2 (Conv2D)       (None, 112, 112, 128)     147584    \n",
            "                                                                 \n",
            " block2_pool (MaxPooling2D)  (None, 56, 56, 128)       0         \n",
            "                                                                 \n",
            " block3_conv1 (Conv2D)       (None, 56, 56, 256)       295168    \n",
            "                                                                 \n",
            " block3_conv2 (Conv2D)       (None, 56, 56, 256)       590080    \n",
            "                                                                 \n",
            " block3_conv3 (Conv2D)       (None, 56, 56, 256)       590080    \n",
            "                                                                 \n",
            " block3_pool (MaxPooling2D)  (None, 28, 28, 256)       0         \n",
            "                                                                 \n",
            " block4_conv1 (Conv2D)       (None, 28, 28, 512)       1180160   \n",
            "                                                                 \n",
            " block4_conv2 (Conv2D)       (None, 28, 28, 512)       2359808   \n",
            "                                                                 \n",
            " block4_conv3 (Conv2D)       (None, 28, 28, 512)       2359808   \n",
            "                                                                 \n",
            " block4_pool (MaxPooling2D)  (None, 14, 14, 512)       0         \n",
            "                                                                 \n",
            " block5_conv1 (Conv2D)       (None, 14, 14, 512)       2359808   \n",
            "                                                                 \n",
            " block5_conv2 (Conv2D)       (None, 14, 14, 512)       2359808   \n",
            "                                                                 \n",
            " block5_conv3 (Conv2D)       (None, 14, 14, 512)       2359808   \n",
            "                                                                 \n",
            " block5_pool (MaxPooling2D)  (None, 7, 7, 512)         0         \n",
            "                                                                 \n",
            " flatten (Flatten)           (None, 25088)             0         \n",
            "                                                                 \n",
            " fc1 (Dense)                 (None, 4096)              102764544 \n",
            "                                                                 \n",
            " fc2 (Dense)                 (None, 4096)              16781312  \n",
            "                                                                 \n",
            " predictions (Dense)         (None, 1000)              4097000   \n",
            "                                                                 \n",
            "=================================================================\n",
            "Total params: 138357544 (527.79 MB)\n",
            "Trainable params: 138357544 (527.79 MB)\n",
            "Non-trainable params: 0 (0.00 Byte)\n",
            "_________________________________________________________________\n"
          ]
        }
      ]
    },
    {
      "cell_type": "code",
      "source": [
        "from keras import Sequential\n",
        "\n",
        "model = Sequential()"
      ],
      "metadata": {
        "id": "DOWyot0wxy22"
      },
      "execution_count": 93,
      "outputs": []
    },
    {
      "cell_type": "code",
      "source": [
        "for layer in vgg.layers[:-1] :\n",
        "  model.add(layer)"
      ],
      "metadata": {
        "id": "kYnEXYVox-JH"
      },
      "execution_count": 94,
      "outputs": []
    },
    {
      "cell_type": "code",
      "source": [
        "for layer in vgg.layers[:-1] :\n",
        "  layer.trainable = False"
      ],
      "metadata": {
        "id": "q-jAsuWoyqwM"
      },
      "execution_count": 95,
      "outputs": []
    },
    {
      "cell_type": "code",
      "source": [
        "model.summary()"
      ],
      "metadata": {
        "id": "icTxgm6LyYqM",
        "colab": {
          "base_uri": "https://localhost:8080/"
        },
        "outputId": "8e5b679d-d397-49e4-abaa-16c80f263aca"
      },
      "execution_count": 96,
      "outputs": [
        {
          "output_type": "stream",
          "name": "stdout",
          "text": [
            "Model: \"sequential_2\"\n",
            "_________________________________________________________________\n",
            " Layer (type)                Output Shape              Param #   \n",
            "=================================================================\n",
            " block1_conv1 (Conv2D)       (None, 224, 224, 64)      1792      \n",
            "                                                                 \n",
            " block1_conv2 (Conv2D)       (None, 224, 224, 64)      36928     \n",
            "                                                                 \n",
            " block1_pool (MaxPooling2D)  (None, 112, 112, 64)      0         \n",
            "                                                                 \n",
            " block2_conv1 (Conv2D)       (None, 112, 112, 128)     73856     \n",
            "                                                                 \n",
            " block2_conv2 (Conv2D)       (None, 112, 112, 128)     147584    \n",
            "                                                                 \n",
            " block2_pool (MaxPooling2D)  (None, 56, 56, 128)       0         \n",
            "                                                                 \n",
            " block3_conv1 (Conv2D)       (None, 56, 56, 256)       295168    \n",
            "                                                                 \n",
            " block3_conv2 (Conv2D)       (None, 56, 56, 256)       590080    \n",
            "                                                                 \n",
            " block3_conv3 (Conv2D)       (None, 56, 56, 256)       590080    \n",
            "                                                                 \n",
            " block3_pool (MaxPooling2D)  (None, 28, 28, 256)       0         \n",
            "                                                                 \n",
            " block4_conv1 (Conv2D)       (None, 28, 28, 512)       1180160   \n",
            "                                                                 \n",
            " block4_conv2 (Conv2D)       (None, 28, 28, 512)       2359808   \n",
            "                                                                 \n",
            " block4_conv3 (Conv2D)       (None, 28, 28, 512)       2359808   \n",
            "                                                                 \n",
            " block4_pool (MaxPooling2D)  (None, 14, 14, 512)       0         \n",
            "                                                                 \n",
            " block5_conv1 (Conv2D)       (None, 14, 14, 512)       2359808   \n",
            "                                                                 \n",
            " block5_conv2 (Conv2D)       (None, 14, 14, 512)       2359808   \n",
            "                                                                 \n",
            " block5_conv3 (Conv2D)       (None, 14, 14, 512)       2359808   \n",
            "                                                                 \n",
            " block5_pool (MaxPooling2D)  (None, 7, 7, 512)         0         \n",
            "                                                                 \n",
            " flatten (Flatten)           (None, 25088)             0         \n",
            "                                                                 \n",
            " fc1 (Dense)                 (None, 4096)              102764544 \n",
            "                                                                 \n",
            " fc2 (Dense)                 (None, 4096)              16781312  \n",
            "                                                                 \n",
            "=================================================================\n",
            "Total params: 134260544 (512.16 MB)\n",
            "Trainable params: 0 (0.00 Byte)\n",
            "Non-trainable params: 134260544 (512.16 MB)\n",
            "_________________________________________________________________\n"
          ]
        }
      ]
    },
    {
      "cell_type": "code",
      "source": [
        "model.add(Dense(1,activation='sigmoid'))"
      ],
      "metadata": {
        "id": "LM6cbBOjytTI"
      },
      "execution_count": 97,
      "outputs": []
    },
    {
      "cell_type": "code",
      "source": [
        "model.summary()"
      ],
      "metadata": {
        "id": "zHf3B2LNAxc6",
        "colab": {
          "base_uri": "https://localhost:8080/"
        },
        "outputId": "f357c2ac-a116-4d1b-aa36-b04fde74bd53"
      },
      "execution_count": 98,
      "outputs": [
        {
          "output_type": "stream",
          "name": "stdout",
          "text": [
            "Model: \"sequential_2\"\n",
            "_________________________________________________________________\n",
            " Layer (type)                Output Shape              Param #   \n",
            "=================================================================\n",
            " block1_conv1 (Conv2D)       (None, 224, 224, 64)      1792      \n",
            "                                                                 \n",
            " block1_conv2 (Conv2D)       (None, 224, 224, 64)      36928     \n",
            "                                                                 \n",
            " block1_pool (MaxPooling2D)  (None, 112, 112, 64)      0         \n",
            "                                                                 \n",
            " block2_conv1 (Conv2D)       (None, 112, 112, 128)     73856     \n",
            "                                                                 \n",
            " block2_conv2 (Conv2D)       (None, 112, 112, 128)     147584    \n",
            "                                                                 \n",
            " block2_pool (MaxPooling2D)  (None, 56, 56, 128)       0         \n",
            "                                                                 \n",
            " block3_conv1 (Conv2D)       (None, 56, 56, 256)       295168    \n",
            "                                                                 \n",
            " block3_conv2 (Conv2D)       (None, 56, 56, 256)       590080    \n",
            "                                                                 \n",
            " block3_conv3 (Conv2D)       (None, 56, 56, 256)       590080    \n",
            "                                                                 \n",
            " block3_pool (MaxPooling2D)  (None, 28, 28, 256)       0         \n",
            "                                                                 \n",
            " block4_conv1 (Conv2D)       (None, 28, 28, 512)       1180160   \n",
            "                                                                 \n",
            " block4_conv2 (Conv2D)       (None, 28, 28, 512)       2359808   \n",
            "                                                                 \n",
            " block4_conv3 (Conv2D)       (None, 28, 28, 512)       2359808   \n",
            "                                                                 \n",
            " block4_pool (MaxPooling2D)  (None, 14, 14, 512)       0         \n",
            "                                                                 \n",
            " block5_conv1 (Conv2D)       (None, 14, 14, 512)       2359808   \n",
            "                                                                 \n",
            " block5_conv2 (Conv2D)       (None, 14, 14, 512)       2359808   \n",
            "                                                                 \n",
            " block5_conv3 (Conv2D)       (None, 14, 14, 512)       2359808   \n",
            "                                                                 \n",
            " block5_pool (MaxPooling2D)  (None, 7, 7, 512)         0         \n",
            "                                                                 \n",
            " flatten (Flatten)           (None, 25088)             0         \n",
            "                                                                 \n",
            " fc1 (Dense)                 (None, 4096)              102764544 \n",
            "                                                                 \n",
            " fc2 (Dense)                 (None, 4096)              16781312  \n",
            "                                                                 \n",
            " dense_2 (Dense)             (None, 1)                 4097      \n",
            "                                                                 \n",
            "=================================================================\n",
            "Total params: 134264641 (512.18 MB)\n",
            "Trainable params: 4097 (16.00 KB)\n",
            "Non-trainable params: 134260544 (512.16 MB)\n",
            "_________________________________________________________________\n"
          ]
        }
      ]
    },
    {
      "cell_type": "code",
      "source": [
        "model.compile(optimizer = 'Adam', loss='binary_crossentropy',metrics=['accuracy'])"
      ],
      "metadata": {
        "id": "3-zvQc0gAzqY"
      },
      "execution_count": 99,
      "outputs": []
    },
    {
      "cell_type": "code",
      "source": [
        "model.fit(X_train,y_train,epochs=5,validation_data=(X_test,y_test))"
      ],
      "metadata": {
        "id": "tLIwFZx3BNr1",
        "colab": {
          "base_uri": "https://localhost:8080/"
        },
        "outputId": "d1f4e6ad-a552-495e-c7cc-eb1ed29cb588"
      },
      "execution_count": 100,
      "outputs": [
        {
          "output_type": "stream",
          "name": "stdout",
          "text": [
            "Epoch 1/5\n",
            "28/28 [==============================] - 7s 237ms/step - loss: 0.1976 - accuracy: 0.9128 - val_loss: 0.0534 - val_accuracy: 0.9766\n",
            "Epoch 2/5\n",
            "28/28 [==============================] - 5s 183ms/step - loss: 0.0273 - accuracy: 0.9888 - val_loss: 0.0318 - val_accuracy: 0.9870\n",
            "Epoch 3/5\n",
            "28/28 [==============================] - 5s 188ms/step - loss: 0.0130 - accuracy: 0.9978 - val_loss: 0.0281 - val_accuracy: 0.9896\n",
            "Epoch 4/5\n",
            "28/28 [==============================] - 5s 188ms/step - loss: 0.0086 - accuracy: 1.0000 - val_loss: 0.0265 - val_accuracy: 0.9896\n",
            "Epoch 5/5\n",
            "28/28 [==============================] - 6s 223ms/step - loss: 0.0071 - accuracy: 1.0000 - val_loss: 0.0257 - val_accuracy: 0.9870\n"
          ]
        },
        {
          "output_type": "execute_result",
          "data": {
            "text/plain": [
              "<keras.src.callbacks.History at 0x7f12784227a0>"
            ]
          },
          "metadata": {},
          "execution_count": 100
        }
      ]
    },
    {
      "cell_type": "code",
      "source": [
        "\n",
        "# MLP for Pima Indians Dataset Serialize to JSON and HDF5\n",
        "from tensorflow.keras.models import Sequential, model_from_json"
      ],
      "metadata": {
        "id": "cT5-AbG6C5KT"
      },
      "execution_count": 101,
      "outputs": []
    },
    {
      "cell_type": "code",
      "source": [
        "# serialize model to JSON\n",
        "model_json = model.to_json()\n",
        "with open(\"model_bw.json\", \"w\") as json_file:\n",
        "    json_file.write(model_json)"
      ],
      "metadata": {
        "id": "Bjj7PokJCq1p"
      },
      "execution_count": 102,
      "outputs": []
    },
    {
      "cell_type": "code",
      "source": [
        "# serialize weights to HDF5\n",
        "model.save_weights(\"/content/drive/MyDrive/face_mask/model_bw.h5\")\n",
        "print(\"Saved model to disk\")"
      ],
      "metadata": {
        "colab": {
          "base_uri": "https://localhost:8080/"
        },
        "id": "hzqhjd8uEiKs",
        "outputId": "371bf4da-abe1-4951-b7d4-e7b5fe786e69"
      },
      "execution_count": 107,
      "outputs": [
        {
          "output_type": "stream",
          "name": "stdout",
          "text": [
            "Saved model to disk\n"
          ]
        }
      ]
    },
    {
      "cell_type": "code",
      "source": [
        "def detect_face_mask(img):\n",
        "\n",
        "  y_pred = model.predict(img.reshape(1,224,224,3),verbose=0)\n",
        "\n",
        "  return 0 if y_pred[0][0] < 0.6 else 1"
      ],
      "metadata": {
        "id": "-s3aXxn3FCrT"
      },
      "execution_count": 104,
      "outputs": []
    },
    {
      "cell_type": "code",
      "source": [
        "sample1 = cv2.resize(cv2.imread(path + '/'+ '15_jpg.rf.53c1d2e1b73290b01e50777f60c703bc.jpg'),(224,224))\n",
        "detect_face_mask(sample1)"
      ],
      "metadata": {
        "id": "kBJcpzC_FFRH",
        "colab": {
          "base_uri": "https://localhost:8080/"
        },
        "outputId": "e77eebda-c883-4f36-d5d6-36271dc6b9ac"
      },
      "execution_count": 106,
      "outputs": [
        {
          "output_type": "execute_result",
          "data": {
            "text/plain": [
              "0"
            ]
          },
          "metadata": {},
          "execution_count": 106
        }
      ]
    },
    {
      "cell_type": "code",
      "source": [],
      "metadata": {
        "id": "6MjTbFqmVNcC"
      },
      "execution_count": null,
      "outputs": []
    }
  ]
}