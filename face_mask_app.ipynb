{
 "cells": [
  {
   "cell_type": "code",
   "execution_count": 14,
   "metadata": {},
   "outputs": [],
   "source": [
    "import cv2\n",
    "import numpy as np\n",
    "# MLP for Pima Indians Dataset Serialize to JSON and HDF5\n",
    "from tensorflow.keras.models import Sequential, model_from_json"
   ]
  },
  {
   "cell_type": "code",
   "execution_count": 15,
   "metadata": {},
   "outputs": [
    {
     "name": "stdout",
     "output_type": "stream",
     "text": [
      "Loaded model from disk\n"
     ]
    }
   ],
   "source": [
    " \n",
    "# load json and create model\n",
    "json_file = open('model_bw.json', 'r')\n",
    "loaded_model_json = json_file.read()\n",
    "json_file.close()\n",
    "loaded_model = model_from_json(loaded_model_json)\n",
    "# load weights into new model\n",
    "loaded_model.load_weights(\"model_bw.h5\")\n",
    "print(\"Loaded model from disk\")\n",
    " "
   ]
  },
  {
   "cell_type": "code",
   "execution_count": 16,
   "metadata": {},
   "outputs": [],
   "source": [
    "def detect_face_mask(img):\n",
    "\n",
    "  y_pred = loaded_model.predict(img.reshape(1,224,224,3),verbose=0)\n",
    "\n",
    "  return 0 if y_pred[0][0] < 0.6 else 1"
   ]
  },
  {
   "cell_type": "code",
   "execution_count": 17,
   "metadata": {},
   "outputs": [
    {
     "data": {
      "text/plain": [
       "(224, 224, 3)"
      ]
     },
     "execution_count": 17,
     "metadata": {},
     "output_type": "execute_result"
    }
   ],
   "source": [
    "sample1 = cv2.resize(cv2.imread('13-with-mask_jpg.rf.3f70707aaf596885be28d4a087396a2f.jpg'),(224,224))\n",
    "\n",
    "sample1.shape"
   ]
  },
  {
   "cell_type": "code",
   "execution_count": 18,
   "metadata": {},
   "outputs": [
    {
     "name": "stdout",
     "output_type": "stream",
     "text": [
      "0\n"
     ]
    }
   ],
   "source": [
    "print(detect_face_mask(sample1))"
   ]
  },
  {
   "cell_type": "code",
   "execution_count": 50,
   "metadata": {},
   "outputs": [],
   "source": [
    "def draw_label(img,text,pos,bg_color,border_thickness=2, text_thickness=2, padding=10):\n",
    "    text_size = cv2.getTextSize(text , cv2.FONT_HERSHEY_SIMPLEX, 1, cv2.FILLED)\n",
    "\n",
    "    end_x = pos[0] + text_size[0][0] + 2 * padding\n",
    "    end_y = pos[1] + text_size[0][1] + 2 * padding\n",
    "\n",
    "    cv2.rectangle(img,pos,(end_x,end_y), bg_color , cv2.FILLED)\n",
    "\n",
    "    # Adjust text position to be inside the rectangle\n",
    "    text_x = pos[0] + + padding\n",
    "    text_y = pos[1] + text_size[0][1] + padding - 2\n",
    "\n",
    "    \n",
    "    cv2.putText(img,text,(text_x,text_y),cv2.FONT_HERSHEY_SIMPLEX , 1 , (0,0,0),2,cv2.LINE_AA)"
   ]
  },
  {
   "cell_type": "code",
   "execution_count": 51,
   "metadata": {},
   "outputs": [],
   "source": [
    "face = cv2.CascadeClassifier('haarcascade_frontalface_default.xml')\n",
    "\n",
    "def detect_face(img):\n",
    "    coord = face.detectMultiScale(img)\n",
    "\n",
    "    return coord"
   ]
  },
  {
   "cell_type": "code",
   "execution_count": 53,
   "metadata": {},
   "outputs": [],
   "source": [
    "cap = cv2.VideoCapture(0)\n",
    "\n",
    "while True :\n",
    "\n",
    "  ret , frame = cap.read()\n",
    "\n",
    "  face_loc = detect_face(cv2.cvtColor(frame,cv2.COLOR_BGR2GRAY))\n",
    "\n",
    "  img = cv2.resize(frame , (224,224))\n",
    "\n",
    "  y_pred = detect_face_mask(img)\n",
    "\n",
    "  for x,y,w,h in face_loc :\n",
    "\n",
    "    cv2.rectangle(frame,(x,y),(x+w, y + h) , (255,0,0),2)\n",
    " \n",
    "\n",
    "  if y_pred == 1:\n",
    "    draw_label(frame,'MASK',(30,30),(60, 179, 113))\n",
    "  else :\n",
    "    draw_label(frame,'NO MASK',(30,30),(0,0,255))\n",
    "\n",
    "\n",
    "  cv2.imshow('App', frame)\n",
    "\n",
    "\n",
    "  if cv2.waitKey(1) & 0xFF == ord('x'):\n",
    "    break\n",
    "\n",
    "cap.release()\n",
    "cv2.destroyAllWindows()"
   ]
  },
  {
   "cell_type": "code",
   "execution_count": null,
   "metadata": {},
   "outputs": [],
   "source": []
  },
  {
   "cell_type": "code",
   "execution_count": null,
   "metadata": {},
   "outputs": [],
   "source": []
  },
  {
   "cell_type": "code",
   "execution_count": null,
   "metadata": {},
   "outputs": [],
   "source": []
  }
 ],
 "metadata": {
  "kernelspec": {
   "display_name": "Python 3 (ipykernel)",
   "language": "python",
   "name": "python3"
  },
  "language_info": {
   "codemirror_mode": {
    "name": "ipython",
    "version": 3
   },
   "file_extension": ".py",
   "mimetype": "text/x-python",
   "name": "python",
   "nbconvert_exporter": "python",
   "pygments_lexer": "ipython3",
   "version": "3.9.15"
  }
 },
 "nbformat": 4,
 "nbformat_minor": 4
}
